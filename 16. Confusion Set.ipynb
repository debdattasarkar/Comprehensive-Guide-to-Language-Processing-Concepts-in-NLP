{
 "cells": [
  {
   "cell_type": "code",
   "execution_count": 1,
   "id": "43d29799",
   "metadata": {},
   "outputs": [
    {
     "name": "stdout",
     "output_type": "stream",
     "text": [
      "Word: principal\n",
      "Potential Confusions: ['principle']\n"
     ]
    }
   ],
   "source": [
    "# Define a confusion set for commonly confused words\n",
    "confusion_set = {\n",
    "    \"affect\": [\"effect\"],\n",
    "    \"bare\": [\"bear\"],\n",
    "    \"complement\": [\"compliment\"],\n",
    "    \"principal\": [\"principle\"],\n",
    "    \"there\": [\"their\", \"they're\"],\n",
    "    \"to\": [\"too\", \"two\"]\n",
    "}\n",
    "\n",
    "# Example sentence with potential confusion\n",
    "sentence = \"The principal is strict but fair. You must bear the consequences.\"\n",
    "\n",
    "# Tokenize the sentence\n",
    "tokens = sentence.split()\n",
    "\n",
    "# Check for potential confusion in the sentence\n",
    "for word in tokens:\n",
    "    if word in confusion_set:\n",
    "        print(f\"Word: {word}\")\n",
    "        print(f\"Potential Confusions: {confusion_set[word]}\")"
   ]
  },
  {
   "cell_type": "code",
   "execution_count": null,
   "id": "60e99b01",
   "metadata": {},
   "outputs": [],
   "source": []
  }
 ],
 "metadata": {
  "kernelspec": {
   "display_name": "Python 3 (ipykernel)",
   "language": "python",
   "name": "python3"
  },
  "language_info": {
   "codemirror_mode": {
    "name": "ipython",
    "version": 3
   },
   "file_extension": ".py",
   "mimetype": "text/x-python",
   "name": "python",
   "nbconvert_exporter": "python",
   "pygments_lexer": "ipython3",
   "version": "3.10.14"
  }
 },
 "nbformat": 4,
 "nbformat_minor": 5
}
