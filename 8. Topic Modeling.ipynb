{
 "cells": [
  {
   "cell_type": "code",
   "execution_count": 2,
   "id": "d872e256-4d74-46b6-a3e8-790754d452fa",
   "metadata": {},
   "outputs": [
    {
     "name": "stdout",
     "output_type": "stream",
     "text": [
      "Topic 0:\n",
      "['natural', 'processing', 'with', 'machine', 'learning']\n",
      "Topic 1:\n",
      "['nlp', 'great', 'future', 'the', 'is']\n"
     ]
    }
   ],
   "source": [
    "from sklearn.feature_extraction.text import CountVectorizer\n",
    "from sklearn.decomposition import LatentDirichletAllocation\n",
    "\n",
    "# Sample documents\n",
    "documents = [\n",
    "    \"NLP is great\",\n",
    "    \"Machine learning is the future\",\n",
    "    \"Natural language processing with machine learning\"\n",
    "]\n",
    "\n",
    "# Create a CountVectorizer instance to transform text into a document-term matrix\n",
    "vectorizer = CountVectorizer()\n",
    "doc_term_matrix = vectorizer.fit_transform(documents)\n",
    "\n",
    "# Create an LDA model with 2 topics\n",
    "lda = LatentDirichletAllocation(n_components=2, random_state=42)\n",
    "\n",
    "# Fit the model to the document-term matrix\n",
    "lda.fit(doc_term_matrix)\n",
    "\n",
    "# Display the topic-word distribution\n",
    "for idx, topic in enumerate(lda.components_):\n",
    "    print(f\"Topic {idx}:\")\n",
    "    print([vectorizer.get_feature_names_out()[i] for i in topic.argsort()[-5:]])"
   ]
  },
  {
   "cell_type": "code",
   "execution_count": null,
   "id": "336bc435-c75f-4fe1-ae5e-8aabd581b916",
   "metadata": {},
   "outputs": [],
   "source": []
  }
 ],
 "metadata": {
  "kernelspec": {
   "display_name": "Python 3 (ipykernel)",
   "language": "python",
   "name": "python3"
  },
  "language_info": {
   "codemirror_mode": {
    "name": "ipython",
    "version": 3
   },
   "file_extension": ".py",
   "mimetype": "text/x-python",
   "name": "python",
   "nbconvert_exporter": "python",
   "pygments_lexer": "ipython3",
   "version": "3.10.14"
  }
 },
 "nbformat": 4,
 "nbformat_minor": 5
}
