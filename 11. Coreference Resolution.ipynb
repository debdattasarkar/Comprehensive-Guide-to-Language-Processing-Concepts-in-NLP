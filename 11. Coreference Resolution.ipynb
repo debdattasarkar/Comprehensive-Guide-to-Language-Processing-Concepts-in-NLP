{
 "cells": [
  {
   "cell_type": "code",
   "execution_count": 1,
   "id": "f4591154-9058-487e-be59-417562f139fd",
   "metadata": {},
   "outputs": [
    {
     "name": "stdout",
     "output_type": "stream",
     "text": [
      "My my PRON PRP$ poss Xx True True\n",
      "sister sister NOUN NN nsubj xxxx True False\n",
      "has have VERB VBZ ROOT xxx True True\n",
      "a a DET DT det x True True\n",
      "dog dog NOUN NN dobj xxx True False\n",
      ". . PUNCT . punct . False False\n",
      "She she PRON PRP nsubj Xxx True True\n",
      "loves love VERB VBZ ROOT xxxx True False\n",
      "him he PRON PRP dobj xxx True True\n",
      ". . PUNCT . punct . False False\n"
     ]
    }
   ],
   "source": [
    "import spacy\n",
    "\n",
    "# Load the spaCy model\n",
    "nlp = spacy.load(\"en_core_web_sm\")\n",
    "\n",
    "# Sample text containing potential coreferences\n",
    "doc = nlp(\"My sister has a dog. She loves him.\")\n",
    "\n",
    "# Analyze the document\n",
    "for token in doc:\n",
    "    print(token.text, token.lemma_, token.pos_, token.tag_, token.dep_,\n",
    "          token.shape_, token.is_alpha, token.is_stop)"
   ]
  },
  {
   "cell_type": "code",
   "execution_count": null,
   "id": "83145fa7-2956-4d1f-831c-e6175e492689",
   "metadata": {},
   "outputs": [],
   "source": []
  }
 ],
 "metadata": {
  "kernelspec": {
   "display_name": "Python 3 (ipykernel)",
   "language": "python",
   "name": "python3"
  },
  "language_info": {
   "codemirror_mode": {
    "name": "ipython",
    "version": 3
   },
   "file_extension": ".py",
   "mimetype": "text/x-python",
   "name": "python",
   "nbconvert_exporter": "python",
   "pygments_lexer": "ipython3",
   "version": "3.10.14"
  }
 },
 "nbformat": 4,
 "nbformat_minor": 5
}
