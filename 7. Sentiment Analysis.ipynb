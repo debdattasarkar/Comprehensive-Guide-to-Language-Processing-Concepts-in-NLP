{
 "cells": [
  {
   "cell_type": "code",
   "execution_count": 2,
   "id": "e85c3a50-a4fe-4c8f-8ae8-8db5d9a2767b",
   "metadata": {},
   "outputs": [
    {
     "name": "stdout",
     "output_type": "stream",
     "text": [
      "Collecting textblob\n",
      "  Downloading textblob-0.18.0.post0-py3-none-any.whl.metadata (4.5 kB)\n",
      "Requirement already satisfied: nltk>=3.8 in /Users/debdatta/anaconda3/envs/nlp/lib/python3.10/site-packages (from textblob) (3.8.1)\n",
      "Requirement already satisfied: click in /Users/debdatta/anaconda3/envs/nlp/lib/python3.10/site-packages (from nltk>=3.8->textblob) (8.1.7)\n",
      "Requirement already satisfied: joblib in /Users/debdatta/anaconda3/envs/nlp/lib/python3.10/site-packages (from nltk>=3.8->textblob) (1.4.2)\n",
      "Requirement already satisfied: regex>=2021.8.3 in /Users/debdatta/anaconda3/envs/nlp/lib/python3.10/site-packages (from nltk>=3.8->textblob) (2023.10.3)\n",
      "Requirement already satisfied: tqdm in /Users/debdatta/anaconda3/envs/nlp/lib/python3.10/site-packages (from nltk>=3.8->textblob) (4.66.4)\n",
      "Downloading textblob-0.18.0.post0-py3-none-any.whl (626 kB)\n",
      "\u001b[2K   \u001b[90m━━━━━━━━━━━━━━━━━━━━━━━━━━━━━━━━━━━━━━━━\u001b[0m \u001b[32m626.3/626.3 kB\u001b[0m \u001b[31m3.8 MB/s\u001b[0m eta \u001b[36m0:00:00\u001b[0m00:01\u001b[0m00:01\u001b[0m\n",
      "\u001b[?25hInstalling collected packages: textblob\n",
      "Successfully installed textblob-0.18.0.post0\n"
     ]
    }
   ],
   "source": [
    "!pip install textblob"
   ]
  },
  {
   "cell_type": "code",
   "execution_count": 3,
   "id": "a6eba715-5d8c-4c6e-94bb-0ae2d3fad6e4",
   "metadata": {},
   "outputs": [
    {
     "name": "stdout",
     "output_type": "stream",
     "text": [
      "Sentiment Polarity: 0.625\n",
      "Sentiment Subjectivity: 0.6\n"
     ]
    }
   ],
   "source": [
    "from textblob import TextBlob\n",
    "\n",
    "# Input text for sentiment analysis\n",
    "text = \"I love this product!\"\n",
    "\n",
    "# Create a TextBlob object\n",
    "blob = TextBlob(text)\n",
    "\n",
    "# Analyze sentiment\n",
    "sentiment = blob.sentiment\n",
    "\n",
    "# Output the results\n",
    "print(f\"Sentiment Polarity: {sentiment.polarity}\")  # Output: Sentiment Polarity: 0.625\n",
    "print(f\"Sentiment Subjectivity: {sentiment.subjectivity}\")  # Output: Sentiment Subjectivity: 0.6"
   ]
  },
  {
   "cell_type": "code",
   "execution_count": null,
   "id": "2b1443cc-c1d9-46bf-97c9-da376a6b82d3",
   "metadata": {},
   "outputs": [],
   "source": []
  }
 ],
 "metadata": {
  "kernelspec": {
   "display_name": "Python 3 (ipykernel)",
   "language": "python",
   "name": "python3"
  },
  "language_info": {
   "codemirror_mode": {
    "name": "ipython",
    "version": 3
   },
   "file_extension": ".py",
   "mimetype": "text/x-python",
   "name": "python",
   "nbconvert_exporter": "python",
   "pygments_lexer": "ipython3",
   "version": "3.10.14"
  }
 },
 "nbformat": 4,
 "nbformat_minor": 5
}
